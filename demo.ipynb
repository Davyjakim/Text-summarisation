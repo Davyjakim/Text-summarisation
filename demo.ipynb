{
 "cells": [
  {
   "cell_type": "code",
   "execution_count": 1,
   "metadata": {},
   "outputs": [],
   "source": [
    "from nltk.tokenize import sent_tokenize, word_tokenize\n",
    "from nltk.corpus import stopwords\n",
    "from nltk import pos_tag\n",
    "from collections import Counter\n",
    "import nltk\n",
    "# nltk.download('punkt_tab')   \n",
    "# nltk.download('stopwords')\n",
    "# nltk.download('averaged_perceptron_tagger_eng')\n",
    "\n"
   ]
  },
  {
   "cell_type": "code",
   "execution_count": 2,
   "metadata": {},
   "outputs": [],
   "source": [
    "def Summarizer(text,n_topic=4):\n",
    "    \n",
    "    sentences = sent_tokenize(text)\n",
    "    \n",
    "    stop_words = set(stopwords.words('english'))\n",
    "    tokens = [word for word, pos in pos_tag(word_tokenize(text))\n",
    "              if pos.startswith(('NN', 'NNS', 'NNP', 'NNPS')) and word.lower() not in stop_words and word.isalpha()]\n",
    "    \n",
    "    main_keywords = [word for word, _ in Counter(tokens).most_common(n_topic)]\n",
    "    goal_indicators = set(main_keywords)\n",
    "    \n",
    "    goal_sentences = ' '.join(sentence for sentence in sentences if any(word in sentence.lower() for word in goal_indicators))\n",
    "    \n",
    "    \n",
    "    return goal_sentences"
   ]
  },
  {
   "cell_type": "code",
   "execution_count": null,
   "metadata": {},
   "outputs": [],
   "source": [
    "with open(r\"C:\\Users\\jakim\\Downloads\\textForDemo.txt\", \"r\", encoding=\"utf-8\") as file:\n",
    "    text = file.read()\n",
    "\n",
    "\n",
    "\n",
    "summary= Summarizer(text,12)\n",
    "\n",
    "print(f'Initial text length: {len(text)} summary length: {len(summary)}')\n",
    "\n",
    "print(summary)"
   ]
  }
 ],
 "metadata": {
  "kernelspec": {
   "display_name": "newCliBE",
   "language": "python",
   "name": "python3"
  },
  "language_info": {
   "codemirror_mode": {
    "name": "ipython",
    "version": 3
   },
   "file_extension": ".py",
   "mimetype": "text/x-python",
   "name": "python",
   "nbconvert_exporter": "python",
   "pygments_lexer": "ipython3",
   "version": "3.12.3"
  }
 },
 "nbformat": 4,
 "nbformat_minor": 2
}
